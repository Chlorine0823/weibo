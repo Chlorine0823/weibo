{
 "cells": [
  {
   "cell_type": "code",
   "execution_count": 1,
   "metadata": {},
   "outputs": [],
   "source": [
    "import numpy as np\n",
    "from sklearn.model_selection import train_test_split\n",
    "from sklearn.svm import SVC\n",
    "from sklearn.linear_model import LogisticRegression\n",
    "from sklearn import neighbors\n",
    "from sklearn import tree\n",
    "import sklearn\n",
    "import os\n",
    "import pickle\n",
    "import random\n",
    "import time\n",
    "\n",
    "Feature = np.load(\"./feature_data/Feature.npy\")\n",
    "label = np.load(\"./feature_data/label.npy\")\n",
    "x_train, x_test, y_train, y_test = train_test_split(Feature, label, test_size=0.2, random_state=42)"
   ]
  },
  {
   "cell_type": "code",
   "execution_count": 7,
   "metadata": {},
   "outputs": [
    {
     "name": "stdout",
     "output_type": "stream",
     "text": [
      "Time used: 0.1s:\n",
      "accuracy: 0.892\n",
      "             precision    recall  f1-score   support\n",
      "\n",
      "  non-rumor      0.880     0.898     0.889       449\n",
      "      rumor      0.903     0.886     0.895       484\n",
      "\n",
      "avg / total      0.892     0.892     0.892       933\n",
      "\n"
     ]
    },
    {
     "name": "stderr",
     "output_type": "stream",
     "text": [
      "/home/lchen/anaconda3/lib/python3.7/site-packages/ipykernel_launcher.py:3: DeprecationWarning: time.clock has been deprecated in Python 3.3 and will be removed from Python 3.8: use time.perf_counter or time.process_time instead\n",
      "  This is separate from the ipykernel package so we can avoid doing imports until\n",
      "/home/lchen/anaconda3/lib/python3.7/site-packages/ipykernel_launcher.py:5: DeprecationWarning: time.clock has been deprecated in Python 3.3 and will be removed from Python 3.8: use time.perf_counter or time.process_time instead\n",
      "  \"\"\"\n"
     ]
    }
   ],
   "source": [
    "# decision tree\n",
    "DT = tree.DecisionTreeClassifier()\n",
    "start = time.clock()\n",
    "DT.fit(x_train,y_train)\n",
    "elapsed = (time.clock() - start)\n",
    "print(\"Time used: %.1fs:\"% elapsed) # Training time\n",
    "\n",
    "predict = DT.predict(x_test)\n",
    "accuracy = sklearn.metrics.accuracy_score(y_test, predict)\n",
    "prf = sklearn.metrics.classification_report(y_test, predict, target_names=[\"non-rumor\", \"rumor\"], digits=3)\n",
    "print(\"accuracy: %.3f\" % accuracy)\n",
    "print(prf)"
   ]
  },
  {
   "cell_type": "code",
   "execution_count": 24,
   "metadata": {},
   "outputs": [
    {
     "name": "stdout",
     "output_type": "stream",
     "text": [
      "Time used: 0.0s:\n",
      "accuracy: 0.881\n",
      "             precision    recall  f1-score   support\n",
      "\n",
      "  non-rumor      0.908     0.837     0.871       449\n",
      "      rumor      0.859     0.921     0.889       484\n",
      "\n",
      "avg / total      0.883     0.881     0.881       933\n",
      "\n"
     ]
    },
    {
     "name": "stderr",
     "output_type": "stream",
     "text": [
      "/home/lchen/anaconda3/lib/python3.7/site-packages/ipykernel_launcher.py:4: DeprecationWarning: time.clock has been deprecated in Python 3.3 and will be removed from Python 3.8: use time.perf_counter or time.process_time instead\n",
      "  after removing the cwd from sys.path.\n",
      "/home/lchen/anaconda3/lib/python3.7/site-packages/ipykernel_launcher.py:6: DeprecationWarning: time.clock has been deprecated in Python 3.3 and will be removed from Python 3.8: use time.perf_counter or time.process_time instead\n",
      "  \n"
     ]
    }
   ],
   "source": [
    "# logistic regression\n",
    "LR = LogisticRegression(penalty = 'l1', tol = 1.89)\n",
    "\n",
    "start = time.clock()\n",
    "LR.fit(x_train, y_train)\n",
    "elapsed = (time.clock() - start)\n",
    "print(\"Time used: %.1fs:\"% elapsed) # Training time\n",
    "\n",
    "predict = LR.predict(x_test)\n",
    "\n",
    "accuracy = sklearn.metrics.accuracy_score(y_test, predict)\n",
    "prf = sklearn.metrics.classification_report(y_test, predict, target_names=[\"non-rumor\", \"rumor\"], digits=3)\n",
    "print(\"accuracy: %.3f\" % accuracy)\n",
    "print(prf)"
   ]
  }
 ],
 "metadata": {
  "kernelspec": {
   "display_name": "Python 3",
   "language": "python",
   "name": "python3"
  },
  "language_info": {
   "codemirror_mode": {
    "name": "ipython",
    "version": 3
   },
   "file_extension": ".py",
   "mimetype": "text/x-python",
   "name": "python",
   "nbconvert_exporter": "python",
   "pygments_lexer": "ipython3",
   "version": "3.7.2"
  }
 },
 "nbformat": 4,
 "nbformat_minor": 2
}
