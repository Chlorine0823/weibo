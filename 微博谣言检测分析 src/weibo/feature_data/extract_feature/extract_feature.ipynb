{
 "cells": [
  {
   "cell_type": "code",
   "execution_count": null,
   "metadata": {},
   "outputs": [],
   "source": [
    "import json\n",
    "import codecs\n",
    "import numpy as np\n",
    "import jieba\n",
    "from Post_deal import feature_extract, Dimension\n",
    "import math\n",
    "import os\n",
    "from gensim.corpora import Dictionary\n",
    "from gensim.models import LdaModel\n",
    "import pickle\n",
    "from sklearn.decomposition import PCA\n",
    "from tqdm import tqdm\n",
    "\n",
    "\n",
    "# load label  id_label_dict\n",
    "weibo_label_file = \"/home/lchen/Datasets/weibo/Weibo.txt\"\n",
    "with open(weibo_label_file, \"r\") as f:\n",
    "    s = f.readlines()\n",
    "id_label_dict = {}\n",
    "for line in s:\n",
    "    ID_label = [item.split(':')[1] for item in line.split('\\t')[:2]]\n",
    "    id_label_dict[ID_label[0]] = int(ID_label[1])\n",
    "\n",
    "# load LDA model\n",
    "with open(\"LDA_model.pkl\",\"rb\") as f:\n",
    "    lda = pickle.load(f)\n",
    "\n",
    "# extract feature\n",
    "path = \"/home/lchen/Datasets/weibo/Weibo\"\n",
    "filenames = [os.path.join(path, filename) for filename in os.listdir(path)]\n",
    "Feature = []\n",
    "label = []\n",
    "for filename in tqdm(filenames):\n",
    "    with open(filename, \"r\") as f:\n",
    "        source = json.load(f)[0]\n",
    "    feature = feature_extract(source)[0].tolist()\n",
    "    source_text = source['text']    \n",
    "    doc = list(jieba.cut(source_text))\n",
    "    doc_bow = lda.id2word.doc2bow(doc)\n",
    "    doc_lda = [0 for i in range(18)]\n",
    "    topic_distribute = lda[doc_bow]\n",
    "    for topic in topic_distribute:\n",
    "        doc_lda[topic[0]] = topic[1]\n",
    "    #Feature.append(feature+doc_lda)\n",
    "    Feature.append(feature)\n",
    "    label.append(id_label_dict[source[\"id\"]])\n",
    "\n",
    "Feature = np.asarray(Feature)\n",
    "label = np.asarray(label)\n",
    "print(\"Feature shape:\", Feature.shape)\n",
    "print(\"label shape:\", label.shape)\n",
    "np.save(\"Feature_Diffuse.npy\", Feature)\n",
    "np.save(\"label_Diffuse.npy\", label)"
   ]
  },
  {
   "cell_type": "code",
   "execution_count": 1,
   "metadata": {},
   "outputs": [
    {
     "name": "stderr",
     "output_type": "stream",
     "text": [
      "  0%|          | 0/2351 [00:00<?, ?it/s]Building prefix dict from the default dictionary ...\n",
      "Loading model from cache /tmp/jieba.cache\n"
     ]
    },
    {
     "name": "stdout",
     "output_type": "stream",
     "text": [
      "---------- load labels ----------\n"
     ]
    },
    {
     "name": "stderr",
     "output_type": "stream",
     "text": [
      "Loading model cost 0.675 seconds.\n",
      "Prefix dict has been built successfully.\n",
      "100%|██████████| 2351/2351 [01:08<00:00, 34.27it/s]\n",
      "100%|██████████| 2313/2313 [01:20<00:00, 28.63it/s]\n"
     ]
    }
   ],
   "source": [
    "import json\n",
    "import codecs\n",
    "import numpy as np\n",
    "import jieba\n",
    "from Post_deal import feature_extract, Dimension\n",
    "import math\n",
    "import os\n",
    "from gensim.corpora import Dictionary\n",
    "from gensim.models import LdaModel\n",
    "import pickle\n",
    "from sklearn.decomposition import PCA\n",
    "from tqdm import tqdm\n",
    "\n",
    "def load_label(label_path):  # nonrumor-0 rumor-1\n",
    "    print(\"---------- load labels ----------\")\n",
    "    with open(label_path, \"r\") as f:\n",
    "        s = f.readlines()\n",
    "    id_list = [[], []]\n",
    "    for line in s:\n",
    "        ID_label = [item.split(':')[1] for item in line.split('\\t')[:2]]\n",
    "        if ID_label[1] == '0':\n",
    "            id_list[0].append(ID_label[0])\n",
    "        if ID_label[1] == '1':\n",
    "            id_list[1].append(ID_label[0])\n",
    "    return id_list\n",
    "\n",
    "label_path = \"/home/lchen/Datasets/weibo/Weibo.txt\"\n",
    "path = \"/home/lchen/Datasets/weibo/Weibo\"\n",
    "id_list = load_label(label_path)\n",
    "filenames_n = [os.path.join(path, \"%s.json\"% ID) for ID in id_list[0]]\n",
    "filenames_r = [os.path.join(path, \"%s.json\"% ID) for ID in id_list[1]]\n",
    "\n",
    "# load LDA model\n",
    "with open(\"LDA_model.pkl\",\"rb\") as f:\n",
    "    lda = pickle.load(f)\n",
    "\n",
    "# extract feature\n",
    "def extract_feature(filenames):\n",
    "    Feature = []\n",
    "    for filename in tqdm(filenames):\n",
    "        with open(filename, \"r\") as f:\n",
    "            source = json.load(f)[0]\n",
    "        feature = feature_extract(source)[0].tolist()\n",
    "        source_text = source['text']    \n",
    "        doc = list(jieba.cut(source_text))\n",
    "        doc_bow = lda.id2word.doc2bow(doc)\n",
    "        doc_lda = [0 for i in range(18)]\n",
    "        topic_distribute = lda[doc_bow]\n",
    "        for topic in topic_distribute:\n",
    "            doc_lda[topic[0]] = topic[1]\n",
    "        Feature.append(feature+doc_lda)\n",
    "    return np.asarray(Feature)\n",
    "\n",
    "Feature_n = extract_feature(filenames_n)\n",
    "Feature_r = extract_feature(filenames_r)\n",
    "#print(Feature_n.shape)"
   ]
  },
  {
   "cell_type": "code",
   "execution_count": 4,
   "metadata": {},
   "outputs": [
    {
     "name": "stdout",
     "output_type": "stream",
     "text": [
      "28\n",
      "(2313, 46)\n"
     ]
    }
   ],
   "source": [
    "Function_origin = ['URL(post[\\'text\\'])','First_person(post[\\'text\\'])',\n",
    "                   'Pos_micro(post_sentiment)','Neg_micro(post_sentiment)']\n",
    "# Extract features from preprocessed text\n",
    "Function = ['Len(post[\\'text\\'])',# Content-based features\n",
    "            'Positive_words(post[\\'text\\'])','Negative_words(post[\\'text\\'])',\n",
    "            'Sentiment_score(post[\\'text\\'],emoticons)',\n",
    "            'Smiling(emoticons) ','Frowning(emoticons)',\n",
    "            'Hashtags(post[\\'text\\'])','AT(post[\\'text\\'])',\n",
    "            'Q_mark(post[\\'text\\'])','E_mark(post[\\'text\\'])',\n",
    "            'Multi_QE_mark(post[\\'text\\'])',\n",
    "            'Person_description(post)', # User-based features\n",
    "            'Profile(post)','Verified(post)',\n",
    "            'Verified_type(post)','Friends(post)',\n",
    "            'Male(post)','City(post)',\n",
    "            'Follower(post)','Post_count(post)',\n",
    "            'Exect_days(post)','Reputation_score(post)',\n",
    "            'Re_post (post)', # Diffusion-based features\n",
    "            'Comment_count(post)'\n",
    "            ]\n",
    "Functions = Function_origin+Function\n",
    "print(len(Functions))\n",
    "print(Feature_r.shape)"
   ]
  },
  {
   "cell_type": "code",
   "execution_count": 7,
   "metadata": {
    "scrolled": false
   },
   "outputs": [
    {
     "name": "stderr",
     "output_type": "stream",
     "text": [
      "/home/lchen/anaconda3/lib/python3.7/site-packages/matplotlib/font_manager.py:1331: UserWarning: findfont: Font family ['sans-serif'] not found. Falling back to DejaVu Sans\n",
      "  (prop.get_family(), self.defaultFamily[fontext]))\n"
     ]
    },
    {
     "data": {
      "image/png": "[encoded data removed]",
      "text/plain": [
       "<Figure size 432x360 with 1 Axes>"
      ]
     },
     "metadata": {
      "needs_background": "light"
     },
     "output_type": "display_data"
    }
   ],
   "source": [
    "import pandas as pd\n",
    "import matplotlib\n",
    "import matplotlib.pyplot as plt\n",
    "\n",
    "def generate_data(array, num):\n",
    "    avg = np.mean(array)\n",
    "    std = np.mean(array)\n",
    "    return np.random.normal(avg, std*std, num)\n",
    "\n",
    "font = matplotlib.font_manager.FontProperties(fname=\"/home/lchen/Documents/Font/Times_New_Roman.ttf\")\n",
    "\n",
    "def box_plot(i, F1, F2):\n",
    "    #x2 = generate_data(F2[:,i], F1.shape[0])\n",
    "    #x1 = generate_data(F1[:,i], F1.shape[0])\n",
    "    x1 = F1[:, i][:F2.shape[0]]\n",
    "    x2 = F2[:, i]\n",
    "    x1 = np.log(x1)\n",
    "    x2 = np.log(x2)\n",
    "    data = np.vstack((x1, x2))\n",
    "    #print(data.shape)\n",
    "    df = pd.DataFrame(data.T, columns=[\"非谣言\",\"谣言\"])    \n",
    "    plt.figure(figsize =(6,5))\n",
    "    f = df.boxplot(sym = 'o',\n",
    "               vert = True, \n",
    "               whis = 1.5, \n",
    "               patch_artist = True, \n",
    "               meanline = False, \n",
    "               showmeans = True, \n",
    "               showbox = True, showcaps = True, showfliers = True, notch = False, return_type = \"dict\", widths=0.4\n",
    "              )\n",
    "    for box in f['boxes']:\n",
    "        box.set( color='y', linewidth=0.5)        # 箱体边框颜色\n",
    "        box.set( facecolor = 'orange' ,alpha=0.7)    # 箱体内部填充颜色\n",
    "    for whisker in f['whiskers']:\n",
    "        whisker.set(color='k', linewidth=0.5,linestyle='-')\n",
    "    for cap in f['caps']:\n",
    "        cap.set(color='gray', linewidth=2)\n",
    "    for median in f['medians']:\n",
    "        median.set(color='DarkBlue', linewidth=2)\n",
    "    for flier in f['fliers']:\n",
    "        flier.set(marker='o', color='y', alpha=0.5)\n",
    "    plt.xticks(fontproperties=font,fontsize=14,color=\"black\")\n",
    "    # plt.title(Functions[i])\n",
    "    plt.savefig(\"./img/log %d %s.png\" % (i+1, Functions[i]))\n",
    "    plt.show()\n",
    "\n",
    "for i in range(0, 1):\n",
    "    box_plot(i, Feature_n, Feature_r)"
   ]
  }
 ],
 "metadata": {
  "kernelspec": {
   "display_name": "Python 3",
   "language": "python",
   "name": "python3"
  },
  "language_info": {
   "codemirror_mode": {
    "name": "ipython",
    "version": 3
   },
   "file_extension": ".py",
   "mimetype": "text/x-python",
   "name": "python",
   "nbconvert_exporter": "python",
   "pygments_lexer": "ipython3",
   "version": "3.7.2"
  }
 },
 "nbformat": 4,
 "nbformat_minor": 2
}
